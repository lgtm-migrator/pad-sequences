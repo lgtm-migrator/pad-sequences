{
 "cells": [
  {
   "cell_type": "markdown",
   "metadata": {},
   "source": [
    "# How to transform depedency tree nodes as input sequences"
   ]
  },
  {
   "cell_type": "code",
   "execution_count": 1,
   "metadata": {},
   "outputs": [],
   "source": [
    "import sys\n",
    "sys.path.append('..')"
   ]
  },
  {
   "cell_type": "code",
   "execution_count": 2,
   "metadata": {},
   "outputs": [
    {
     "name": "stdout",
     "output_type": "stream",
     "text": [
      "1.6.0\n"
     ]
    }
   ],
   "source": [
    "from pad_sequences import pad_sequences_adjacency\n",
    "\n",
    "import torch\n",
    "print(torch.__version__)\n",
    "\n",
    "import spacy"
   ]
  },
  {
   "cell_type": "code",
   "execution_count": 3,
   "metadata": {},
   "outputs": [],
   "source": [
    "%%capture\n",
    "!python -m spacy download de_core_news_sm"
   ]
  },
  {
   "cell_type": "markdown",
   "metadata": {},
   "source": [
    "## Simple example\n",
    "Assume an adjacency matrix is defined by index pairs `idx_pairs` and the matrix dimension `n_seqlen`"
   ]
  },
  {
   "cell_type": "code",
   "execution_count": 4,
   "metadata": {},
   "outputs": [],
   "source": [
    "idx_pairs = [(0, 1), (2, 1), (3, 4), (5, 4), (7, 4), (11, 4), (6, 5), (10, 7), (8, 10), (9, 10)]\n",
    "n_seqlen = 12"
   ]
  },
  {
   "cell_type": "code",
   "execution_count": 5,
   "metadata": {},
   "outputs": [
    {
     "data": {
      "text/plain": [
       "tensor([[  0., 999.,   0.,   0.,   0.,   0.,   0.,   0.,   0.,   0.,   0.,   0.],\n",
       "        [  0.,   0.,   0.,   0.,   0.,   0.,   0.,   0.,   0.,   0.,   0.,   0.],\n",
       "        [  0., 999.,   0.,   0.,   0.,   0.,   0.,   0.,   0.,   0.,   0.,   0.],\n",
       "        [  0.,   0.,   0.,   0., 999.,   0.,   0.,   0.,   0.,   0.,   0.,   0.],\n",
       "        [  0.,   0.,   0.,   0.,   0.,   0.,   0.,   0.,   0.,   0.,   0.,   0.],\n",
       "        [  0.,   0.,   0.,   0., 999.,   0.,   0.,   0.,   0.,   0.,   0.,   0.],\n",
       "        [  0.,   0.,   0.,   0.,   0., 999.,   0.,   0.,   0.,   0.,   0.,   0.],\n",
       "        [  0.,   0.,   0.,   0., 999.,   0.,   0.,   0.,   0.,   0.,   0.,   0.],\n",
       "        [  0.,   0.,   0.,   0.,   0.,   0.,   0.,   0.,   0.,   0., 999.,   0.],\n",
       "        [  0.,   0.,   0.,   0.,   0.,   0.,   0.,   0.,   0.,   0., 999.,   0.],\n",
       "        [  0.,   0.,   0.,   0.,   0.,   0.,   0., 999.,   0.,   0.,   0.,   0.],\n",
       "        [  0.,   0.,   0.,   0., 999.,   0.,   0.,   0.,   0.,   0.,   0.,   0.]])"
      ]
     },
     "execution_count": 5,
     "metadata": {},
     "output_type": "execute_result"
    }
   ],
   "source": [
    "# torch\n",
    "mat = torch.sparse.FloatTensor(\n",
    "    torch.LongTensor(idx_pairs).t(),\n",
    "    torch.FloatTensor([999 for _ in range(len(idx_pairs))]),\n",
    "    torch.Size([n_seqlen, n_seqlen])\n",
    ")\n",
    "mat.to_dense()"
   ]
  },
  {
   "cell_type": "markdown",
   "metadata": {},
   "source": [
    "## "
   ]
  },
  {
   "cell_type": "markdown",
   "metadata": {},
   "source": [
    "## Dependency Relations as Input Sequence"
   ]
  },
  {
   "cell_type": "code",
   "execution_count": 6,
   "metadata": {},
   "outputs": [],
   "source": [
    "data = [\n",
    "    \"Die Freisetzung eines Arzneistoffs aus der Arzneiform steht fast vollständig unter pharmazeutisch-technologischer Kontrolle (ist also abhängig von der Galenik und der Formulierung der Arzneiform).\",\n",
    "    \"Somit ist die Liberation der Arzneiform nur bedingt dem Bereich der Pharmakokinetik zuzuordnen.\",\n",
    "    \"Alle weiteren Vorgänge sind physiologisch gesteuert und in weiten Grenzen variabel.\",\n",
    "    \"Freisetzung ist die Grundvoraussetzung für die Wirkung eines Arzneimittels.\",\n",
    "]"
   ]
  },
  {
   "cell_type": "code",
   "execution_count": 7,
   "metadata": {},
   "outputs": [
    {
     "name": "stdout",
     "output_type": "stream",
     "text": [
      "CPU times: user 11.7 ms, sys: 0 ns, total: 11.7 ms\n",
      "Wall time: 11.7 ms\n"
     ]
    }
   ],
   "source": [
    "import de_core_news_sm\n",
    "nlp = de_core_news_sm.load()\n",
    "nlp.disable_pipes([\"ner\", \"tagger\"])\n",
    "\n",
    "# process texts\n",
    "%time docs = [nlp(s) for s in data]"
   ]
  },
  {
   "cell_type": "code",
   "execution_count": 8,
   "metadata": {},
   "outputs": [],
   "source": [
    "def get_children_indicies(doc: spacy.tokens.doc.Doc):\n",
    "    idxpairs = []\n",
    "    for t in doc:\n",
    "        idxpairs.extend([(c.i, t.i) for c in t.children])\n",
    "    return idxpairs\n",
    "\n",
    "deps_child_idx = [get_children_indicies(doc) for doc in docs]\n",
    "deps_len = [len(doc) for doc in docs]"
   ]
  },
  {
   "cell_type": "code",
   "execution_count": 9,
   "metadata": {},
   "outputs": [
    {
     "data": {
      "text/plain": [
       "[(0, 1), (3, 1), (9, 1), (2, 3), (4, 3), (6, 4), (5, 6), (8, 6), (7, 8)]"
      ]
     },
     "execution_count": 9,
     "metadata": {},
     "output_type": "execute_result"
    }
   ],
   "source": [
    "deps_child_idx[3]"
   ]
  },
  {
   "cell_type": "code",
   "execution_count": 10,
   "metadata": {},
   "outputs": [
    {
     "data": {
      "text/plain": [
       "[(2, 3), (5, 3), (11, 3), (4, 5), (6, 5), (8, 6), (7, 8), (10, 8), (9, 10)]"
      ]
     },
     "execution_count": 10,
     "metadata": {},
     "output_type": "execute_result"
    }
   ],
   "source": [
    "maxlen = 12\n",
    "padded = pad_sequences_adjacency(deps_child_idx, deps_len, \n",
    "                                 maxlen=maxlen, padding='pre', truncating='pre')\n",
    "padded[3]"
   ]
  },
  {
   "cell_type": "code",
   "execution_count": 11,
   "metadata": {},
   "outputs": [
    {
     "data": {
      "text/plain": [
       "tensor([[  0.,   0.,   0.,   0.,   0.,   0.,   0.,   0.,   0.,   0.,   0.,   0.],\n",
       "        [  0.,   0.,   0.,   0.,   0.,   0.,   0.,   0.,   0.,   0.,   0.,   0.],\n",
       "        [  0.,   0.,   0., 999.,   0.,   0.,   0.,   0.,   0.,   0.,   0.,   0.],\n",
       "        [  0.,   0.,   0.,   0.,   0.,   0.,   0.,   0.,   0.,   0.,   0.,   0.],\n",
       "        [  0.,   0.,   0.,   0.,   0., 999.,   0.,   0.,   0.,   0.,   0.,   0.],\n",
       "        [  0.,   0.,   0., 999.,   0.,   0.,   0.,   0.,   0.,   0.,   0.,   0.],\n",
       "        [  0.,   0.,   0.,   0.,   0., 999.,   0.,   0.,   0.,   0.,   0.,   0.],\n",
       "        [  0.,   0.,   0.,   0.,   0.,   0.,   0.,   0., 999.,   0.,   0.,   0.],\n",
       "        [  0.,   0.,   0.,   0.,   0.,   0., 999.,   0.,   0.,   0.,   0.,   0.],\n",
       "        [  0.,   0.,   0.,   0.,   0.,   0.,   0.,   0.,   0.,   0., 999.,   0.],\n",
       "        [  0.,   0.,   0.,   0.,   0.,   0.,   0.,   0., 999.,   0.,   0.,   0.],\n",
       "        [  0.,   0.,   0., 999.,   0.,   0.,   0.,   0.,   0.,   0.,   0.,   0.]])"
      ]
     },
     "execution_count": 11,
     "metadata": {},
     "output_type": "execute_result"
    }
   ],
   "source": [
    "idx_pairs = padded[3]\n",
    "n_seqlen = deps_len[3]\n",
    "\n",
    "mat = torch.sparse.FloatTensor(\n",
    "    torch.LongTensor(idx_pairs).t(),\n",
    "    torch.FloatTensor([999 for _ in range(len(idx_pairs))]),\n",
    "    torch.Size([maxlen, maxlen])\n",
    ")\n",
    "mat.to_dense()"
   ]
  },
  {
   "cell_type": "code",
   "execution_count": null,
   "metadata": {},
   "outputs": [],
   "source": []
  }
 ],
 "metadata": {
  "kernelspec": {
   "display_name": "Python 3",
   "language": "python",
   "name": "python3"
  },
  "language_info": {
   "codemirror_mode": {
    "name": "ipython",
    "version": 3
   },
   "file_extension": ".py",
   "mimetype": "text/x-python",
   "name": "python",
   "nbconvert_exporter": "python",
   "pygments_lexer": "ipython3",
   "version": "3.8.5"
  }
 },
 "nbformat": 4,
 "nbformat_minor": 4
}
