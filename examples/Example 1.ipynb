{
 "cells": [
  {
   "cell_type": "markdown",
   "metadata": {},
   "source": [
    "# Load Packages"
   ]
  },
  {
   "cell_type": "code",
   "execution_count": 1,
   "metadata": {
    "ExecuteTime": {
     "end_time": "2018-09-18T08:12:38.232692Z",
     "start_time": "2018-09-18T08:12:38.223700Z"
    }
   },
   "outputs": [],
   "source": [
    "import sys\n",
    "sys.path.append('..')"
   ]
  },
  {
   "cell_type": "code",
   "execution_count": 2,
   "metadata": {},
   "outputs": [],
   "source": [
    "import random\n",
    "from pad_sequences_multi import pad_sequences_multi"
   ]
  },
  {
   "cell_type": "markdown",
   "metadata": {},
   "source": [
    "# Toy Example"
   ]
  },
  {
   "cell_type": "code",
   "execution_count": 3,
   "metadata": {},
   "outputs": [
    {
     "data": {
      "text/plain": [
       "[[[1, 1, 1]],\n",
       " [[1, 1, 1]],\n",
       " [[1, 1, 1], [2, 2, 2], [3, 3, 3]],\n",
       " [[1, 1, 1], [2, 2, 2]],\n",
       " [[1, 1, 1], [2, 2, 2]],\n",
       " [[1, 1, 1], [2, 2, 2]],\n",
       " [[1, 1, 1]],\n",
       " [[1, 1, 1], [2, 2, 2], [3, 3, 3], [4, 4, 4], [5, 5, 5]],\n",
       " [[1, 1, 1]],\n",
       " [[1, 1, 1], [2, 2, 2], [3, 3, 3], [4, 4, 4], [5, 5, 5]]]"
      ]
     },
     "execution_count": 3,
     "metadata": {},
     "output_type": "execute_result"
    }
   ],
   "source": [
    "random.seed(42)\n",
    "seq = [[[i, i, i] for i in range(1, random.randint(2, 6))] for _ in range(10)]\n",
    "seq"
   ]
  },
  {
   "cell_type": "markdown",
   "metadata": {
    "ExecuteTime": {
     "end_time": "2018-09-18T08:12:38.249524Z",
     "start_time": "2018-09-18T08:12:38.237886Z"
    }
   },
   "source": [
    "# Pad at the beginning"
   ]
  },
  {
   "cell_type": "code",
   "execution_count": 4,
   "metadata": {},
   "outputs": [
    {
     "data": {
      "text/plain": [
       "[[[0, 0, 0], [0, 0, 0], [0, 0, 0], [0, 0, 0], [1, 1, 1]],\n",
       " [[0, 0, 0], [0, 0, 0], [0, 0, 0], [0, 0, 0], [1, 1, 1]],\n",
       " [[0, 0, 0], [0, 0, 0], [1, 1, 1], [2, 2, 2], [3, 3, 3]],\n",
       " [[0, 0, 0], [0, 0, 0], [0, 0, 0], [1, 1, 1], [2, 2, 2]],\n",
       " [[0, 0, 0], [0, 0, 0], [0, 0, 0], [1, 1, 1], [2, 2, 2]],\n",
       " [[0, 0, 0], [0, 0, 0], [0, 0, 0], [1, 1, 1], [2, 2, 2]],\n",
       " [[0, 0, 0], [0, 0, 0], [0, 0, 0], [0, 0, 0], [1, 1, 1]],\n",
       " [[1, 1, 1], [2, 2, 2], [3, 3, 3], [4, 4, 4], [5, 5, 5]],\n",
       " [[0, 0, 0], [0, 0, 0], [0, 0, 0], [0, 0, 0], [1, 1, 1]],\n",
       " [[1, 1, 1], [2, 2, 2], [3, 3, 3], [4, 4, 4], [5, 5, 5]]]"
      ]
     },
     "execution_count": 4,
     "metadata": {},
     "output_type": "execute_result"
    }
   ],
   "source": [
    "padded = pad_sequences_multi(seq, padding='pre')\n",
    "padded"
   ]
  },
  {
   "cell_type": "markdown",
   "metadata": {},
   "source": [
    "# Pad at the end"
   ]
  },
  {
   "cell_type": "code",
   "execution_count": 5,
   "metadata": {},
   "outputs": [
    {
     "data": {
      "text/plain": [
       "[[[1, 1, 1], [0, 0, 0], [0, 0, 0], [0, 0, 0], [0, 0, 0]],\n",
       " [[1, 1, 1], [0, 0, 0], [0, 0, 0], [0, 0, 0], [0, 0, 0]],\n",
       " [[1, 1, 1], [2, 2, 2], [3, 3, 3], [0, 0, 0], [0, 0, 0]],\n",
       " [[1, 1, 1], [2, 2, 2], [0, 0, 0], [0, 0, 0], [0, 0, 0]],\n",
       " [[1, 1, 1], [2, 2, 2], [0, 0, 0], [0, 0, 0], [0, 0, 0]],\n",
       " [[1, 1, 1], [2, 2, 2], [0, 0, 0], [0, 0, 0], [0, 0, 0]],\n",
       " [[1, 1, 1], [0, 0, 0], [0, 0, 0], [0, 0, 0], [0, 0, 0]],\n",
       " [[1, 1, 1], [2, 2, 2], [3, 3, 3], [4, 4, 4], [5, 5, 5]],\n",
       " [[1, 1, 1], [0, 0, 0], [0, 0, 0], [0, 0, 0], [0, 0, 0]],\n",
       " [[1, 1, 1], [2, 2, 2], [3, 3, 3], [4, 4, 4], [5, 5, 5]]]"
      ]
     },
     "execution_count": 5,
     "metadata": {},
     "output_type": "execute_result"
    }
   ],
   "source": [
    "padded = pad_sequences_multi(seq, padding='post')\n",
    "padded"
   ]
  },
  {
   "cell_type": "markdown",
   "metadata": {},
   "source": [
    "# Pad with custom values"
   ]
  },
  {
   "cell_type": "code",
   "execution_count": 6,
   "metadata": {},
   "outputs": [
    {
     "data": {
      "text/plain": [
       "[[[9, 9, 9], [9, 9, 9], [9, 9, 9], [9, 9, 9], [1, 1, 1]],\n",
       " [[9, 9, 9], [9, 9, 9], [9, 9, 9], [9, 9, 9], [1, 1, 1]],\n",
       " [[9, 9, 9], [9, 9, 9], [1, 1, 1], [2, 2, 2], [3, 3, 3]],\n",
       " [[9, 9, 9], [9, 9, 9], [9, 9, 9], [1, 1, 1], [2, 2, 2]],\n",
       " [[9, 9, 9], [9, 9, 9], [9, 9, 9], [1, 1, 1], [2, 2, 2]],\n",
       " [[9, 9, 9], [9, 9, 9], [9, 9, 9], [1, 1, 1], [2, 2, 2]],\n",
       " [[9, 9, 9], [9, 9, 9], [9, 9, 9], [9, 9, 9], [1, 1, 1]],\n",
       " [[1, 1, 1], [2, 2, 2], [3, 3, 3], [4, 4, 4], [5, 5, 5]],\n",
       " [[9, 9, 9], [9, 9, 9], [9, 9, 9], [9, 9, 9], [1, 1, 1]],\n",
       " [[1, 1, 1], [2, 2, 2], [3, 3, 3], [4, 4, 4], [5, 5, 5]]]"
      ]
     },
     "execution_count": 6,
     "metadata": {},
     "output_type": "execute_result"
    }
   ],
   "source": [
    "padded = pad_sequences_multi(seq, padding='pre', value=9)\n",
    "padded"
   ]
  },
  {
   "cell_type": "code",
   "execution_count": 7,
   "metadata": {},
   "outputs": [
    {
     "data": {
      "text/plain": [
       "[[[7, 8, 9], [7, 8, 9], [7, 8, 9], [7, 8, 9], [1, 1, 1]],\n",
       " [[7, 8, 9], [7, 8, 9], [7, 8, 9], [7, 8, 9], [1, 1, 1]],\n",
       " [[7, 8, 9], [7, 8, 9], [1, 1, 1], [2, 2, 2], [3, 3, 3]],\n",
       " [[7, 8, 9], [7, 8, 9], [7, 8, 9], [1, 1, 1], [2, 2, 2]],\n",
       " [[7, 8, 9], [7, 8, 9], [7, 8, 9], [1, 1, 1], [2, 2, 2]],\n",
       " [[7, 8, 9], [7, 8, 9], [7, 8, 9], [1, 1, 1], [2, 2, 2]],\n",
       " [[7, 8, 9], [7, 8, 9], [7, 8, 9], [7, 8, 9], [1, 1, 1]],\n",
       " [[1, 1, 1], [2, 2, 2], [3, 3, 3], [4, 4, 4], [5, 5, 5]],\n",
       " [[7, 8, 9], [7, 8, 9], [7, 8, 9], [7, 8, 9], [1, 1, 1]],\n",
       " [[1, 1, 1], [2, 2, 2], [3, 3, 3], [4, 4, 4], [5, 5, 5]]]"
      ]
     },
     "execution_count": 7,
     "metadata": {},
     "output_type": "execute_result"
    }
   ],
   "source": [
    "padded = pad_sequences_multi(seq, padding='pre', value=[7, 8, 9])\n",
    "padded"
   ]
  },
  {
   "cell_type": "markdown",
   "metadata": {},
   "source": [
    "# Truncating and maxlen"
   ]
  },
  {
   "cell_type": "markdown",
   "metadata": {},
   "source": [
    "## For input sequences\n",
    "have the \"newest\" observations in the right column"
   ]
  },
  {
   "cell_type": "code",
   "execution_count": 8,
   "metadata": {},
   "outputs": [
    {
     "data": {
      "text/plain": [
       "[[[0, 0, 0], [0, 0, 0], [1, 1, 1]],\n",
       " [[0, 0, 0], [0, 0, 0], [1, 1, 1]],\n",
       " [[1, 1, 1], [2, 2, 2], [3, 3, 3]],\n",
       " [[0, 0, 0], [1, 1, 1], [2, 2, 2]],\n",
       " [[0, 0, 0], [1, 1, 1], [2, 2, 2]],\n",
       " [[0, 0, 0], [1, 1, 1], [2, 2, 2]],\n",
       " [[0, 0, 0], [0, 0, 0], [1, 1, 1]],\n",
       " [[3, 3, 3], [4, 4, 4], [5, 5, 5]],\n",
       " [[0, 0, 0], [0, 0, 0], [1, 1, 1]],\n",
       " [[3, 3, 3], [4, 4, 4], [5, 5, 5]]]"
      ]
     },
     "execution_count": 8,
     "metadata": {},
     "output_type": "execute_result"
    }
   ],
   "source": [
    "padded = pad_sequences_multi(seq, padding='pre', truncating='pre', value=0, maxlen=3)\n",
    "padded"
   ]
  },
  {
   "cell_type": "markdown",
   "metadata": {},
   "source": [
    "## For output sequences\n",
    "have the \"oldest\" observations in the left column"
   ]
  },
  {
   "cell_type": "code",
   "execution_count": 9,
   "metadata": {},
   "outputs": [
    {
     "data": {
      "text/plain": [
       "[[[1, 1, 1], [0, 0, 0], [0, 0, 0]],\n",
       " [[1, 1, 1], [0, 0, 0], [0, 0, 0]],\n",
       " [[1, 1, 1], [2, 2, 2], [3, 3, 3]],\n",
       " [[1, 1, 1], [2, 2, 2], [0, 0, 0]],\n",
       " [[1, 1, 1], [2, 2, 2], [0, 0, 0]],\n",
       " [[1, 1, 1], [2, 2, 2], [0, 0, 0]],\n",
       " [[1, 1, 1], [0, 0, 0], [0, 0, 0]],\n",
       " [[1, 1, 1], [2, 2, 2], [3, 3, 3]],\n",
       " [[1, 1, 1], [0, 0, 0], [0, 0, 0]],\n",
       " [[1, 1, 1], [2, 2, 2], [3, 3, 3]]]"
      ]
     },
     "execution_count": 9,
     "metadata": {},
     "output_type": "execute_result"
    }
   ],
   "source": [
    "padded = pad_sequences_multi(seq, padding='post', truncating='post', value=0, maxlen=3)\n",
    "padded"
   ]
  },
  {
   "cell_type": "markdown",
   "metadata": {},
   "source": [
    "## Don't mix it\n",
    "this is kind of inconsistent (don't do this)"
   ]
  },
  {
   "cell_type": "code",
   "execution_count": 10,
   "metadata": {},
   "outputs": [
    {
     "data": {
      "text/plain": [
       "[[[0, 0, 0], [0, 0, 0], [1, 1, 1]],\n",
       " [[0, 0, 0], [0, 0, 0], [1, 1, 1]],\n",
       " [[1, 1, 1], [2, 2, 2], [3, 3, 3]],\n",
       " [[0, 0, 0], [1, 1, 1], [2, 2, 2]],\n",
       " [[0, 0, 0], [1, 1, 1], [2, 2, 2]],\n",
       " [[0, 0, 0], [1, 1, 1], [2, 2, 2]],\n",
       " [[0, 0, 0], [0, 0, 0], [1, 1, 1]],\n",
       " [[1, 1, 1], [2, 2, 2], [3, 3, 3]],\n",
       " [[0, 0, 0], [0, 0, 0], [1, 1, 1]],\n",
       " [[1, 1, 1], [2, 2, 2], [3, 3, 3]]]"
      ]
     },
     "execution_count": 10,
     "metadata": {},
     "output_type": "execute_result"
    }
   ],
   "source": [
    "padded = pad_sequences_multi(seq, padding='pre', truncating='post', value=0, maxlen=3)\n",
    "padded"
   ]
  }
 ],
 "metadata": {
  "kernelspec": {
   "display_name": "Python 3",
   "language": "python",
   "name": "python3"
  },
  "language_info": {
   "codemirror_mode": {
    "name": "ipython",
    "version": 3
   },
   "file_extension": ".py",
   "mimetype": "text/x-python",
   "name": "python",
   "nbconvert_exporter": "python",
   "pygments_lexer": "ipython3",
   "version": "3.7.5"
  },
  "toc": {
   "base_numbering": 1,
   "nav_menu": {},
   "number_sections": true,
   "sideBar": true,
   "skip_h1_title": false,
   "title_cell": "Table of Contents",
   "title_sidebar": "Contents",
   "toc_cell": false,
   "toc_position": {},
   "toc_section_display": true,
   "toc_window_display": false
  },
  "varInspector": {
   "cols": {
    "lenName": 16,
    "lenType": 16,
    "lenVar": 40
   },
   "kernels_config": {
    "python": {
     "delete_cmd_postfix": "",
     "delete_cmd_prefix": "del ",
     "library": "var_list.py",
     "varRefreshCmd": "print(var_dic_list())"
    },
    "r": {
     "delete_cmd_postfix": ") ",
     "delete_cmd_prefix": "rm(",
     "library": "var_list.r",
     "varRefreshCmd": "cat(var_dic_list()) "
    }
   },
   "types_to_exclude": [
    "module",
    "function",
    "builtin_function_or_method",
    "instance",
    "_Feature"
   ],
   "window_display": false
  }
 },
 "nbformat": 4,
 "nbformat_minor": 4
}
