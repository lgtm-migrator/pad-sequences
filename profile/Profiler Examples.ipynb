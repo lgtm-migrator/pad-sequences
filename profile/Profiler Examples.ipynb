{
 "cells": [
  {
   "cell_type": "markdown",
   "metadata": {},
   "source": [
    "# Load Packages"
   ]
  },
  {
   "cell_type": "code",
   "execution_count": 1,
   "metadata": {},
   "outputs": [],
   "source": [
    "import sys\n",
    "sys.path.append('..')"
   ]
  },
  {
   "cell_type": "code",
   "execution_count": 2,
   "metadata": {},
   "outputs": [],
   "source": [
    "import random\n",
    "from pad_sequences_multi import pad_sequences_multi"
   ]
  },
  {
   "cell_type": "markdown",
   "metadata": {},
   "source": [
    "# Generate Test Data"
   ]
  },
  {
   "cell_type": "code",
   "execution_count": 3,
   "metadata": {},
   "outputs": [
    {
     "name": "stdout",
     "output_type": "stream",
     "text": [
      "CPU times: user 232 ms, sys: 19.5 ms, total: 251 ms\n",
      "Wall time: 276 ms\n"
     ]
    }
   ],
   "source": [
    "%%time\n",
    "random.seed(42)\n",
    "seq = [[[i, i, i] for i in range(1, random.randint(2, 50))] for _ in range(10000)]\n",
    "n_timesteps = 25"
   ]
  },
  {
   "cell_type": "markdown",
   "metadata": {},
   "source": [
    "# Execution Time by Function Calls (prun)"
   ]
  },
  {
   "cell_type": "code",
   "execution_count": 4,
   "metadata": {},
   "outputs": [
    {
     "name": "stdout",
     "output_type": "stream",
     "text": [
      " "
     ]
    },
    {
     "data": {
      "text/plain": [
       "         184068 function calls in 0.110 seconds"
      ]
     },
     "metadata": {},
     "output_type": "display_data"
    }
   ],
   "source": [
    "%prun -l pad_sequences_multi.py padded = pad_sequences_multi(seq, maxlen=n_timesteps)"
   ]
  },
  {
   "cell_type": "markdown",
   "metadata": {},
   "source": [
    "# Total execution time (timeit)"
   ]
  },
  {
   "cell_type": "code",
   "execution_count": 5,
   "metadata": {},
   "outputs": [
    {
     "name": "stdout",
     "output_type": "stream",
     "text": [
      "35.3 ms ± 484 µs per loop (mean ± std. dev. of 7 runs, 10 loops each)\n"
     ]
    }
   ],
   "source": [
    "%timeit padded = pad_sequences_multi(seq, maxlen=n_timesteps)"
   ]
  },
  {
   "cell_type": "markdown",
   "metadata": {},
   "source": [
    "# Memory Profile (mprun)"
   ]
  },
  {
   "cell_type": "code",
   "execution_count": 6,
   "metadata": {},
   "outputs": [],
   "source": [
    "%load_ext memory_profiler"
   ]
  },
  {
   "cell_type": "code",
   "execution_count": 7,
   "metadata": {},
   "outputs": [
    {
     "name": "stdout",
     "output_type": "stream",
     "text": [
      "peak memory: 83.04 MiB, increment: 1.59 MiB\n"
     ]
    }
   ],
   "source": [
    "%memit pad_sequences_multi(seq, maxlen=n_timesteps)"
   ]
  },
  {
   "cell_type": "code",
   "execution_count": 8,
   "metadata": {},
   "outputs": [
    {
     "name": "stdout",
     "output_type": "stream",
     "text": [
      "\n"
     ]
    },
    {
     "data": {
      "text/plain": [
       "Filename: ../pad_sequences_multi/pad_sequences_multi_fn.py\n",
       "\n",
       "Line #    Mem usage    Increment   Line Contents\n",
       "================================================\n",
       "     2     82.1 MiB     82.1 MiB   def pad_sequences_multi(sequences: list,\n",
       "     3                                                     padding: str = 'pre',\n",
       "     4                                                     truncating: str = 'pre',\n",
       "     5                                                     maxlen: int = None,\n",
       "     6                                                     value: list = None) -> list:\n",
       "     7                                 # use the len of the longest sequence\n",
       "     8     82.1 MiB      0.0 MiB       if maxlen is None:\n",
       "     9                                     maxlen = max([len(seq) for seq in sequences])\n",
       "    10                             \n",
       "    11                                 # impute, e.g. (0, 0, 0), as padding value\n",
       "    12     82.1 MiB      0.0 MiB       if value is None:\n",
       "    13     82.1 MiB      0.0 MiB           value = [0 for _ in range(len(sequences[0][0]))]\n",
       "    14     82.1 MiB      0.0 MiB       if not isinstance(value, (list, tuple)):\n",
       "    15                                     value = [value for _ in range(len(sequences[0][0]))]\n",
       "    16                             \n",
       "    17                                 # loop over all sequences\n",
       "    18     82.1 MiB      0.0 MiB       padded = []\n",
       "    19     83.3 MiB      0.0 MiB       for seq in sequences:\n",
       "    20                                     # ensure that 1 single observation is processed as list\n",
       "    21     83.3 MiB      0.0 MiB           if not isinstance(seq[0], (list, tuple)):\n",
       "    22                                         seq = [seq]\n",
       "    23                             \n",
       "    24                                     # convert tuple to list\n",
       "    25     83.3 MiB      0.0 MiB           seq = list(seq)\n",
       "    26                             \n",
       "    27                                     # Padding\n",
       "    28     83.3 MiB      0.0 MiB           if padding == 'pre':\n",
       "    29     83.3 MiB      0.0 MiB               seq.reverse()\n",
       "    30     83.3 MiB      0.0 MiB           while len(seq) < maxlen:\n",
       "    31     83.3 MiB      0.0 MiB               seq.append(value)\n",
       "    32     83.3 MiB      0.0 MiB           if padding == 'pre':\n",
       "    33     83.3 MiB      0.0 MiB               seq.reverse()\n",
       "    34                             \n",
       "    35                                     # Trucation (not implemented)\n",
       "    36     83.3 MiB      0.0 MiB           if len(seq) > maxlen:\n",
       "    37     83.3 MiB      0.0 MiB               if truncating == 'pre':\n",
       "    38     83.3 MiB      0.0 MiB                   seq = seq[(len(seq) - maxlen):]\n",
       "    39     83.3 MiB      0.0 MiB               if truncating == 'post':\n",
       "    40                                             seq = seq[:maxlen]\n",
       "    41                             \n",
       "    42                                     # sequence is done\n",
       "    43     83.3 MiB      0.0 MiB           padded.append(seq)\n",
       "    44                             \n",
       "    45                                 # dataset is done\n",
       "    46     83.3 MiB      0.0 MiB       return padded"
      ]
     },
     "metadata": {},
     "output_type": "display_data"
    }
   ],
   "source": [
    "%mprun -f pad_sequences_multi pad_sequences_multi(seq, maxlen=n_timesteps)"
   ]
  }
 ],
 "metadata": {
  "kernelspec": {
   "display_name": "Python 3",
   "language": "python",
   "name": "python3"
  },
  "language_info": {
   "codemirror_mode": {
    "name": "ipython",
    "version": 3
   },
   "file_extension": ".py",
   "mimetype": "text/x-python",
   "name": "python",
   "nbconvert_exporter": "python",
   "pygments_lexer": "ipython3",
   "version": "3.7.5"
  }
 },
 "nbformat": 4,
 "nbformat_minor": 4
}
