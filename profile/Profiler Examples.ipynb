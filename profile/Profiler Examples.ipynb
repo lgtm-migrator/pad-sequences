{
 "cells": [
  {
   "cell_type": "markdown",
   "metadata": {},
   "source": [
    "# Load Packages"
   ]
  },
  {
   "cell_type": "code",
   "execution_count": 1,
   "metadata": {},
   "outputs": [],
   "source": [
    "import sys\n",
    "sys.path.append('..')"
   ]
  },
  {
   "cell_type": "code",
   "execution_count": 2,
   "metadata": {},
   "outputs": [],
   "source": [
    "import random\n",
    "from pad_sequences import pad_sequences_multi"
   ]
  },
  {
   "cell_type": "markdown",
   "metadata": {},
   "source": [
    "# Generate Test Data"
   ]
  },
  {
   "cell_type": "code",
   "execution_count": 3,
   "metadata": {},
   "outputs": [
    {
     "name": "stdout",
     "output_type": "stream",
     "text": [
      "CPU times: user 84.5 ms, sys: 3.88 ms, total: 88.4 ms\n",
      "Wall time: 87.6 ms\n"
     ]
    }
   ],
   "source": [
    "%%time\n",
    "random.seed(42)\n",
    "seq = [[[i, i, i] for i in range(1, random.randint(2, 50))] for _ in range(10000)]\n",
    "n_timesteps = 25"
   ]
  },
  {
   "cell_type": "markdown",
   "metadata": {},
   "source": [
    "# Execution Time by Function Calls (prun)"
   ]
  },
  {
   "cell_type": "code",
   "execution_count": 4,
   "metadata": {},
   "outputs": [
    {
     "name": "stdout",
     "output_type": "stream",
     "text": [
      " "
     ]
    },
    {
     "data": {
      "text/plain": [
       "         184068 function calls in 0.074 seconds"
      ]
     },
     "metadata": {},
     "output_type": "display_data"
    }
   ],
   "source": [
    "%prun -l pad_sequences_multi.py padded = pad_sequences_multi(seq, maxlen=n_timesteps)"
   ]
  },
  {
   "cell_type": "markdown",
   "metadata": {},
   "source": [
    "# Total execution time (timeit)"
   ]
  },
  {
   "cell_type": "code",
   "execution_count": 5,
   "metadata": {},
   "outputs": [
    {
     "name": "stdout",
     "output_type": "stream",
     "text": [
      "12.4 ms ± 71.2 µs per loop (mean ± std. dev. of 7 runs, 100 loops each)\n"
     ]
    }
   ],
   "source": [
    "%timeit padded = pad_sequences_multi(seq, maxlen=n_timesteps)"
   ]
  },
  {
   "cell_type": "markdown",
   "metadata": {},
   "source": [
    "# Memory Profile (mprun)"
   ]
  },
  {
   "cell_type": "code",
   "execution_count": 6,
   "metadata": {},
   "outputs": [],
   "source": [
    "%load_ext memory_profiler"
   ]
  },
  {
   "cell_type": "code",
   "execution_count": 7,
   "metadata": {},
   "outputs": [
    {
     "name": "stdout",
     "output_type": "stream",
     "text": [
      "peak memory: 79.98 MiB, increment: 1.27 MiB\n"
     ]
    }
   ],
   "source": [
    "%memit pad_sequences_multi(seq, maxlen=n_timesteps)"
   ]
  },
  {
   "cell_type": "code",
   "execution_count": 8,
   "metadata": {},
   "outputs": [
    {
     "name": "stdout",
     "output_type": "stream",
     "text": [
      "\n"
     ]
    },
    {
     "data": {
      "text/plain": [
       "Filename: ../pad_sequences/pad_sequences_multi_fn.py\n",
       "\n",
       "Line #    Mem usage    Increment  Occurences   Line Contents\n",
       "============================================================\n",
       "     5     80.0 MiB     80.0 MiB           1   def pad_sequences_multi(sequences: List[List[List[Number]]],\n",
       "     6                                                                 padding: Optional[str] = 'pre',\n",
       "     7                                                                 truncating: Optional[str] = 'pre',\n",
       "     8                                                                 maxlen: Optional[int] = None,\n",
       "     9                                                                 value: Optional[List[Number]] = None\n",
       "    10                                                                 ) -> List[List[List[Number]]]:\n",
       "    11                                             \"\"\"Pad and trunc sequences with multiple features\n",
       "    12                                         \n",
       "    13                                             Parameters:\n",
       "    14                                             -----------\n",
       "    15                                             sequences : List[List[List[Number]]]\n",
       "    16                                                 A list of sequences, e.g. [seq1, seq2, ...]\n",
       "    17                                                 Each sequence is a list of elements, e.g. seq1=[elem1, elem2, ..]\n",
       "    18                                                 An element is a list of features, e.g. elem1=[feat1, feat2, ...]\n",
       "    19                                                 In other words a sequence with multiple features, e.g.\n",
       "    20                                                     seq1=[(f11, f12, ..), (f21, f22, ..), (f31, f32, ..), ..]\n",
       "    21                                         \n",
       "    22                                             maxlen : int\n",
       "    23                                                 Maximum length of the sequence. If len(seq)<maxlen, then padding\n",
       "    24                                                   is executed. If len(seq)>maxlen, then elements are truncated.\n",
       "    25                                         \n",
       "    26                                             padding : str\n",
       "    27                                                 (Default 'pre')\n",
       "    28                                         \n",
       "    29                                             truncating : str\n",
       "    30                                                 (Default 'pre')\n",
       "    31                                         \n",
       "    32                                             value : List[Number]\n",
       "    33                                                 (Default 0.0)\n",
       "    34                                         \n",
       "    35                                         \n",
       "    36                                             Returns:\n",
       "    37                                             --------\n",
       "    38                                             List[List[List[Number]]]\n",
       "    39                                                 A list of sequences.\n",
       "    40                                         \n",
       "    41                                             Notes:\n",
       "    42                                             ------\n",
       "    43                                             If your sequences are 1-dimensional or resp. have only 1 feature, then\n",
       "    44                                               use `tf.keras.preprocessing.sequence.pad_sequences`\n",
       "    45                                         \n",
       "    46                                             \"\"\"\n",
       "    47                                             # use the len of the longest sequence\n",
       "    48     80.0 MiB      0.0 MiB           1       if maxlen is None:\n",
       "    49                                                 maxlen = max([len(seq) for seq in sequences])\n",
       "    50                                         \n",
       "    51                                             # impute, e.g. (0, 0, 0), as padding value\n",
       "    52     80.0 MiB      0.0 MiB           1       n_features = len(sequences[0][0])\n",
       "    53     80.0 MiB      0.0 MiB           1       if value is None:\n",
       "    54     80.0 MiB      0.0 MiB           6           value = [0 for _ in range(n_features)]\n",
       "    55     80.0 MiB      0.0 MiB           1       if not isinstance(value, (list, tuple)):\n",
       "    56                                                 value = [value for _ in range(n_features)]\n",
       "    57                                         \n",
       "    58                                             # loop over all sequences\n",
       "    59     80.0 MiB      0.0 MiB           1       padded = []\n",
       "    60     81.0 MiB      0.0 MiB       10001       for seq in sequences:\n",
       "    61                                                 # ensure that 1 single observation is processed as list\n",
       "    62     81.0 MiB      0.0 MiB       10000           if not isinstance(seq[0], (list, tuple)):\n",
       "    63                                                     seq = [seq]\n",
       "    64                                         \n",
       "    65                                                 # convert tuple to list\n",
       "    66     81.0 MiB      0.7 MiB       10000           seq = list(seq)\n",
       "    67                                         \n",
       "    68                                                 # Padding\n",
       "    69     81.0 MiB      0.0 MiB       10000           if padding == 'pre':\n",
       "    70     81.0 MiB      0.0 MiB       10000               seq.reverse()\n",
       "    71     81.0 MiB      0.0 MiB       69534           while len(seq) < maxlen:\n",
       "    72     81.0 MiB      0.3 MiB       59534               seq.append(value)\n",
       "    73     81.0 MiB      0.0 MiB       10000           if padding == 'pre':\n",
       "    74     81.0 MiB      0.0 MiB       10000               seq.reverse()\n",
       "    75                                         \n",
       "    76                                                 # Trucation (not implemented)\n",
       "    77     81.0 MiB      0.0 MiB       10000           if len(seq) > maxlen:\n",
       "    78     81.0 MiB      0.0 MiB        4993               if truncating == 'pre':\n",
       "    79     81.0 MiB      0.0 MiB        4993                   seq = seq[(len(seq) - maxlen):]\n",
       "    80     81.0 MiB      0.0 MiB        4993               if truncating == 'post':\n",
       "    81                                                         seq = seq[:maxlen]\n",
       "    82                                         \n",
       "    83                                                 # sequence is done\n",
       "    84     81.0 MiB      0.0 MiB       10000           padded.append(seq)\n",
       "    85                                         \n",
       "    86                                             # dataset is done\n",
       "    87     81.0 MiB      0.0 MiB           1       return padded"
      ]
     },
     "metadata": {},
     "output_type": "display_data"
    }
   ],
   "source": [
    "%mprun -f pad_sequences_multi pad_sequences_multi(seq, maxlen=n_timesteps)"
   ]
  }
 ],
 "metadata": {
  "kernelspec": {
   "display_name": "Python 3",
   "language": "python",
   "name": "python3"
  },
  "language_info": {
   "codemirror_mode": {
    "name": "ipython",
    "version": 3
   },
   "file_extension": ".py",
   "mimetype": "text/x-python",
   "name": "python",
   "nbconvert_exporter": "python",
   "pygments_lexer": "ipython3",
   "version": "3.8.5"
  }
 },
 "nbformat": 4,
 "nbformat_minor": 4
}
