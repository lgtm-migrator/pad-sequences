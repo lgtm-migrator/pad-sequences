{
 "cells": [
  {
   "cell_type": "markdown",
   "metadata": {},
   "source": [
    "# Load Packages"
   ]
  },
  {
   "cell_type": "code",
   "execution_count": null,
   "metadata": {},
   "outputs": [],
   "source": [
    "import sys\n",
    "sys.path.append('..')"
   ]
  },
  {
   "cell_type": "code",
   "execution_count": null,
   "metadata": {},
   "outputs": [],
   "source": [
    "import random\n",
    "from pad_sequences import pad_sequences_multi, pad_sequences_adjacency"
   ]
  },
  {
   "cell_type": "markdown",
   "metadata": {},
   "source": [
    "# Sequences with N features"
   ]
  },
  {
   "cell_type": "code",
   "execution_count": 3,
   "metadata": {},
   "outputs": [
    {
     "name": "stdout",
     "output_type": "stream",
     "text": [
      "CPU times: user 71.5 ms, sys: 11.9 ms, total: 83.4 ms\n",
      "Wall time: 82.3 ms\n"
     ]
    }
   ],
   "source": [
    "%%time\n",
    "# Generate Test Data\n",
    "random.seed(42)\n",
    "seq = [[[i, i, i] for i in range(1, random.randint(2, 50))] for _ in range(10000)]\n",
    "n_timesteps = 25"
   ]
  },
  {
   "cell_type": "code",
   "execution_count": 4,
   "metadata": {},
   "outputs": [
    {
     "name": "stdout",
     "output_type": "stream",
     "text": [
      " "
     ]
    },
    {
     "data": {
      "text/plain": [
       "         184068 function calls in 0.077 seconds"
      ]
     },
     "metadata": {},
     "output_type": "display_data"
    }
   ],
   "source": [
    "# Execution Time by Function Calls (prun)\n",
    "%prun -l pad_sequences_multi.py padded = pad_sequences_multi(seq, maxlen=n_timesteps)"
   ]
  },
  {
   "cell_type": "code",
   "execution_count": 5,
   "metadata": {},
   "outputs": [
    {
     "name": "stdout",
     "output_type": "stream",
     "text": [
      "12.6 ms ± 102 µs per loop (mean ± std. dev. of 7 runs, 100 loops each)\n",
      "11.5 ms ± 970 µs per loop (mean ± std. dev. of 7 runs, 100 loops each)\n",
      "13.2 ms ± 745 µs per loop (mean ± std. dev. of 7 runs, 100 loops each)\n",
      "12.3 ms ± 65.4 µs per loop (mean ± std. dev. of 7 runs, 100 loops each)\n"
     ]
    }
   ],
   "source": [
    "# Total execution time (timeit)\n",
    "%timeit padded = pad_sequences_multi(seq, maxlen=n_timesteps, truncating='pre', padding='pre')\n",
    "%timeit padded = pad_sequences_multi(seq, maxlen=n_timesteps, truncating='pre', padding='post')\n",
    "%timeit padded = pad_sequences_multi(seq, maxlen=n_timesteps, truncating='post', padding='pre')\n",
    "%timeit padded = pad_sequences_multi(seq, maxlen=n_timesteps, truncating='post', padding='post')"
   ]
  },
  {
   "cell_type": "markdown",
   "metadata": {},
   "source": [
    "# Sequences that are Adjacency Matrices"
   ]
  },
  {
   "cell_type": "code",
   "execution_count": 6,
   "metadata": {},
   "outputs": [
    {
     "name": "stdout",
     "output_type": "stream",
     "text": [
      "CPU times: user 7.8 s, sys: 128 ms, total: 7.93 s\n",
      "Wall time: 7.93 s\n"
     ]
    }
   ],
   "source": [
    "%%time\n",
    "# Generate Test Data\n",
    "random.seed(42)\n",
    "\n",
    "n_examples = 10000\n",
    "sequences = []\n",
    "seqlen = []\n",
    "for i in range(n_examples):\n",
    "    n_seqlen = random.randint(1, 64)\n",
    "    n_elements = int(random.random() * n_seqlen**2)\n",
    "    seq = [(random.randint(0, n_seqlen), random.randint(0, n_seqlen)) for _ in range(n_elements)]\n",
    "    # save\n",
    "    sequences.append(seq)\n",
    "    seqlen.append(n_seqlen)\n"
   ]
  },
  {
   "cell_type": "code",
   "execution_count": 7,
   "metadata": {},
   "outputs": [
    {
     "name": "stdout",
     "output_type": "stream",
     "text": [
      " "
     ]
    },
    {
     "data": {
      "text/plain": [
       "         25245 function calls in 1.232 seconds\n",
       "\n",
       "   Ordered by: internal time\n",
       "   List reduced from 8 to 4 due to restriction <'pad_sequences_adjacency.py'>\n",
       "\n",
       "   ncalls  tottime  percall  cumtime  percall filename:lineno(function)\n",
       "     5394    0.600    0.000    0.600    0.000 pad_sequences_adjacency.py:51(<listcomp>)\n",
       "     5394    0.452    0.000    0.452    0.000 pad_sequences_adjacency.py:52(<listcomp>)\n",
       "        1    0.128    0.128    1.225    1.225 pad_sequences_adjacency.py:4(pad_sequences_adjacency)\n",
       "     4453    0.044    0.000    0.044    0.000 pad_sequences_adjacency.py:59(<listcomp>)"
      ]
     },
     "metadata": {},
     "output_type": "display_data"
    }
   ],
   "source": [
    "# Execution Time by Function Calls (prun)\n",
    "%prun -l pad_sequences_adjacency.py padded = pad_sequences_adjacency(sequences, seqlen, maxlen=30, truncating='pre', padding='pre')"
   ]
  },
  {
   "cell_type": "code",
   "execution_count": 8,
   "metadata": {},
   "outputs": [
    {
     "name": "stdout",
     "output_type": "stream",
     "text": [
      "864 ms ± 1.46 ms per loop (mean ± std. dev. of 7 runs, 1 loop each)\n",
      "611 ms ± 1.4 ms per loop (mean ± std. dev. of 7 runs, 1 loop each)\n",
      "591 ms ± 3.24 ms per loop (mean ± std. dev. of 7 runs, 1 loop each)\n",
      "337 ms ± 1.59 ms per loop (mean ± std. dev. of 7 runs, 1 loop each)\n"
     ]
    }
   ],
   "source": [
    "# Total execution time (timeit)\n",
    "%timeit padded = pad_sequences_adjacency(sequences, seqlen, maxlen=48, truncating='pre', padding='pre')\n",
    "%timeit padded = pad_sequences_adjacency(sequences, seqlen, maxlen=48, truncating='pre', padding='post')\n",
    "%timeit padded = pad_sequences_adjacency(sequences, seqlen, maxlen=48, truncating='post', padding='pre')\n",
    "%timeit padded = pad_sequences_adjacency(sequences, seqlen, maxlen=48, truncating='post', padding='post')"
   ]
  },
  {
   "cell_type": "code",
   "execution_count": null,
   "metadata": {},
   "outputs": [],
   "source": []
  }
 ],
 "metadata": {
  "kernelspec": {
   "display_name": "Python 3",
   "language": "python",
   "name": "python3"
  },
  "language_info": {
   "codemirror_mode": {
    "name": "ipython",
    "version": 3
   },
   "file_extension": ".py",
   "mimetype": "text/x-python",
   "name": "python",
   "nbconvert_exporter": "python",
   "pygments_lexer": "ipython3",
   "version": "3.8.5"
  }
 },
 "nbformat": 4,
 "nbformat_minor": 4
}
